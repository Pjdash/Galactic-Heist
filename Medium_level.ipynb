{
 "cells": [
  {
   "cell_type": "markdown",
   "id": "992f1bc5",
   "metadata": {},
   "source": [
    "Question no. 1"
   ]
  },
  {
   "cell_type": "code",
   "execution_count": null,
   "id": "ea180067",
   "metadata": {},
   "outputs": [
    {
     "name": "stderr",
     "output_type": "stream",
     "text": [
      "ERROR: Could not install packages due to an EnvironmentError: [WinError 32] The process cannot access the file because it is being used by another process: 'd:\\\\miniconda\\\\Lib\\\\site-packages\\\\matplotlib\\\\backends\\\\web_backend\\\\ipython_inline_figure.html'\n",
      "Consider using the `--user` option or check the permissions.\n",
      "\n"
     ]
    },
    {
     "name": "stdout",
     "output_type": "stream",
     "text": [
      "Requirement already satisfied: pandas in d:\\miniconda\\lib\\site-packages (2.0.3)\n",
      "Collecting seaborn\n",
      "  Using cached seaborn-0.13.2-py3-none-any.whl (294 kB)\n",
      "Collecting matplotlib\n",
      "  Using cached matplotlib-3.7.5-cp38-cp38-win_amd64.whl (7.5 MB)\n",
      "Requirement already satisfied: tzdata>=2022.1 in d:\\miniconda\\lib\\site-packages (from pandas) (2025.2)\n",
      "Requirement already satisfied: numpy>=1.20.3; python_version < \"3.10\" in d:\\miniconda\\lib\\site-packages (from pandas) (1.24.4)\n",
      "Requirement already satisfied: python-dateutil>=2.8.2 in d:\\miniconda\\lib\\site-packages (from pandas) (2.8.2)\n",
      "Requirement already satisfied: pytz>=2020.1 in d:\\miniconda\\lib\\site-packages (from pandas) (2025.2)\n",
      "Requirement already satisfied: pyparsing>=2.3.1 in d:\\miniconda\\lib\\site-packages (from matplotlib) (3.1.4)\n",
      "Requirement already satisfied: cycler>=0.10 in d:\\miniconda\\lib\\site-packages (from matplotlib) (0.12.1)\n",
      "Requirement already satisfied: pillow>=6.2.0 in d:\\miniconda\\lib\\site-packages (from matplotlib) (10.4.0)\n",
      "Requirement already satisfied: packaging>=20.0 in d:\\miniconda\\lib\\site-packages (from matplotlib) (24.2)\n",
      "Requirement already satisfied: importlib-resources>=3.2.0; python_version < \"3.10\" in d:\\miniconda\\lib\\site-packages (from matplotlib) (6.4.5)\n",
      "Requirement already satisfied: kiwisolver>=1.0.1 in d:\\miniconda\\lib\\site-packages (from matplotlib) (1.4.7)\n",
      "Requirement already satisfied: contourpy>=1.0.1 in d:\\miniconda\\lib\\site-packages (from matplotlib) (1.1.1)\n",
      "Requirement already satisfied: fonttools>=4.22.0 in d:\\miniconda\\lib\\site-packages (from matplotlib) (4.57.0)\n",
      "Requirement already satisfied: six>=1.5 in d:\\miniconda\\lib\\site-packages (from python-dateutil>=2.8.2->pandas) (1.14.0)\n",
      "Requirement already satisfied: zipp>=3.1.0; python_version < \"3.10\" in d:\\miniconda\\lib\\site-packages (from importlib-resources>=3.2.0; python_version < \"3.10\"->matplotlib) (3.20.2)\n",
      "Installing collected packages: matplotlib, seaborn\n",
      "Collecting seaborn\n",
      "  Downloading seaborn-0.13.2-py3-none-any.whl (294 kB)\n",
      "Requirement already satisfied: numpy!=1.24.0,>=1.20 in d:\\miniconda\\lib\\site-packages (from seaborn) (1.24.4)\n",
      "Requirement already satisfied: pandas>=1.2 in d:\\miniconda\\lib\\site-packages (from seaborn) (2.0.3)\n",
      "Collecting matplotlib!=3.6.1,>=3.4\n",
      "  Downloading matplotlib-3.7.5-cp38-cp38-win_amd64.whl (7.5 MB)\n",
      "Requirement already satisfied: python-dateutil>=2.8.2 in d:\\miniconda\\lib\\site-packages (from pandas>=1.2->seaborn) (2.8.2)\n",
      "Requirement already satisfied: pytz>=2020.1 in d:\\miniconda\\lib\\site-packages (from pandas>=1.2->seaborn) (2025.2)\n",
      "Requirement already satisfied: tzdata>=2022.1 in d:\\miniconda\\lib\\site-packages (from pandas>=1.2->seaborn) (2025.2)\n",
      "Collecting pyparsing>=2.3.1\n",
      "  Downloading pyparsing-3.1.4-py3-none-any.whl (104 kB)\n",
      "Collecting fonttools>=4.22.0\n",
      "  Downloading fonttools-4.57.0-cp38-cp38-win_amd64.whl (1.5 MB)\n",
      "Collecting importlib-resources>=3.2.0; python_version < \"3.10\"\n",
      "  Downloading importlib_resources-6.4.5-py3-none-any.whl (36 kB)\n",
      "Collecting kiwisolver>=1.0.1\n",
      "  Downloading kiwisolver-1.4.7-cp38-cp38-win_amd64.whl (55 kB)\n",
      "Collecting pillow>=6.2.0\n",
      "  Downloading pillow-10.4.0-cp38-cp38-win_amd64.whl (2.6 MB)\n",
      "Collecting contourpy>=1.0.1\n",
      "  Downloading contourpy-1.1.1-cp38-cp38-win_amd64.whl (477 kB)\n",
      "Requirement already satisfied: packaging>=20.0 in d:\\miniconda\\lib\\site-packages (from matplotlib!=3.6.1,>=3.4->seaborn) (24.2)\n",
      "Collecting cycler>=0.10\n",
      "  Downloading cycler-0.12.1-py3-none-any.whl (8.3 kB)\n",
      "Requirement already satisfied: six>=1.5 in d:\\miniconda\\lib\\site-packages (from python-dateutil>=2.8.2->pandas>=1.2->seaborn) (1.14.0)\n",
      "Collecting zipp>=3.1.0; python_version < \"3.10\"\n",
      "  Using cached zipp-3.20.2-py3-none-any.whl (9.2 kB)\n",
      "Installing collected packages: pyparsing, fonttools, zipp, importlib-resources, kiwisolver, pillow, contourpy, cycler, matplotlib, seaborn\n",
      "Successfully installed contourpy-1.1.1 cycler-0.12.1 fonttools-4.57.0 importlib-resources-6.4.5 kiwisolver-1.4.7 matplotlib-3.7.5 pillow-10.4.0 pyparsing-3.1.4 seaborn-0.13.2 zipp-3.20.2\n"
     ]
    }
   ],
   "source": [
    "! pip install pandas seaborn matplotlib\n"
   ]
  }
 ],
 "metadata": {
  "kernelspec": {
   "display_name": "base",
   "language": "python",
   "name": "python3"
  },
  "language_info": {
   "codemirror_mode": {
    "name": "ipython",
    "version": 3
   },
   "file_extension": ".py",
   "mimetype": "text/x-python",
   "name": "python",
   "nbconvert_exporter": "python",
   "pygments_lexer": "ipython3",
   "version": "3.8.3"
  }
 },
 "nbformat": 4,
 "nbformat_minor": 5
}
