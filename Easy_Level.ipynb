{
 "cells": [
  {
   "cell_type": "code",
   "execution_count": null,
   "id": "90f0a197",
   "metadata": {},
   "outputs": [],
   "source": [
    "! pip install pandas"
   ]
  },
  {
   "cell_type": "code",
   "execution_count": null,
   "id": "3d36e5b0",
   "metadata": {},
   "outputs": [],
   "source": [
    "! pip install matplotlib"
   ]
  },
  {
   "cell_type": "markdown",
   "id": "2cc51785",
   "metadata": {},
   "source": [
    "## Preprocessing"
   ]
  },
  {
   "cell_type": "code",
   "execution_count": 32,
   "id": "8698f8bc",
   "metadata": {},
   "outputs": [],
   "source": [
    "import pandas as pd\n",
    "import numpy as np\n",
    "import matplotlib.pyplot as plt"
   ]
  },
  {
   "cell_type": "code",
   "execution_count": 39,
   "id": "090222aa",
   "metadata": {},
   "outputs": [
    {
     "data": {
      "text/html": [
       "<div>\n",
       "<style scoped>\n",
       "    .dataframe tbody tr th:only-of-type {\n",
       "        vertical-align: middle;\n",
       "    }\n",
       "\n",
       "    .dataframe tbody tr th {\n",
       "        vertical-align: top;\n",
       "    }\n",
       "\n",
       "    .dataframe thead th {\n",
       "        text-align: right;\n",
       "    }\n",
       "</style>\n",
       "<table border=\"1\" class=\"dataframe\">\n",
       "  <thead>\n",
       "    <tr style=\"text-align: right;\">\n",
       "      <th></th>\n",
       "      <th>Name</th>\n",
       "      <th>Constellation</th>\n",
       "      <th>Bayern Designation</th>\n",
       "      <th>Designation</th>\n",
       "      <th>Approval Date</th>\n",
       "    </tr>\n",
       "  </thead>\n",
       "  <tbody>\n",
       "    <tr>\n",
       "      <th>0</th>\n",
       "      <td>Acamar</td>\n",
       "      <td>Eridanus</td>\n",
       "      <td>θ1 Eridani A</td>\n",
       "      <td>HR 897</td>\n",
       "      <td>2016-07-20</td>\n",
       "    </tr>\n",
       "    <tr>\n",
       "      <th>1</th>\n",
       "      <td>Achernar</td>\n",
       "      <td>Eridanus</td>\n",
       "      <td>α Eridani A</td>\n",
       "      <td>HR 472</td>\n",
       "      <td>2016-06-30</td>\n",
       "    </tr>\n",
       "    <tr>\n",
       "      <th>2</th>\n",
       "      <td>Achird</td>\n",
       "      <td>Cassiopeia</td>\n",
       "      <td>η Cassiopeiae A</td>\n",
       "      <td>HR 219</td>\n",
       "      <td>2017-09-05</td>\n",
       "    </tr>\n",
       "    <tr>\n",
       "      <th>3</th>\n",
       "      <td>Acrab</td>\n",
       "      <td>Scorpius</td>\n",
       "      <td>β1 Scorpii Aa</td>\n",
       "      <td>HR 5984</td>\n",
       "      <td>2016-08-21</td>\n",
       "    </tr>\n",
       "    <tr>\n",
       "      <th>4</th>\n",
       "      <td>Acrux</td>\n",
       "      <td>Crux</td>\n",
       "      <td>α Crucis Aa</td>\n",
       "      <td>HR 4730</td>\n",
       "      <td>2016-07-20</td>\n",
       "    </tr>\n",
       "  </tbody>\n",
       "</table>\n",
       "</div>"
      ],
      "text/plain": [
       "       Name Constellation Bayern Designation Designation Approval Date\n",
       "0    Acamar      Eridanus       θ1 Eridani A      HR 897    2016-07-20\n",
       "1  Achernar      Eridanus        α Eridani A      HR 472    2016-06-30\n",
       "2    Achird    Cassiopeia    η Cassiopeiae A      HR 219    2017-09-05\n",
       "3     Acrab      Scorpius      β1 Scorpii Aa     HR 5984    2016-08-21\n",
       "4     Acrux          Crux        α Crucis Aa     HR 4730    2016-07-20"
      ]
     },
     "execution_count": 39,
     "metadata": {},
     "output_type": "execute_result"
    }
   ],
   "source": [
    "data = pd.read_csv(\"Stars_Names.csv\")\n",
    "data.head()"
   ]
  },
  {
   "cell_type": "code",
   "execution_count": 40,
   "id": "730628da",
   "metadata": {},
   "outputs": [
    {
     "name": "stdout",
     "output_type": "stream",
     "text": [
      "<class 'pandas.core.frame.DataFrame'>\n",
      "RangeIndex: 336 entries, 0 to 335\n",
      "Data columns (total 5 columns):\n",
      " #   Column              Non-Null Count  Dtype \n",
      "---  ------              --------------  ----- \n",
      " 0   Name                336 non-null    object\n",
      " 1   Constellation       335 non-null    object\n",
      " 2   Bayern Designation  335 non-null    object\n",
      " 3   Designation         336 non-null    object\n",
      " 4   Approval Date       336 non-null    object\n",
      "dtypes: object(5)\n",
      "memory usage: 13.3+ KB\n"
     ]
    }
   ],
   "source": [
    "data.info()"
   ]
  },
  {
   "cell_type": "code",
   "execution_count": 41,
   "id": "a4622256",
   "metadata": {},
   "outputs": [
    {
     "name": "stdout",
     "output_type": "stream",
     "text": [
      "Shape: (336, 5)\n",
      "columns: ['Name', 'Constellation', 'Bayern Designation', 'Designation', 'Approval Date']\n"
     ]
    }
   ],
   "source": [
    "print(\"Shape:\", data.shape)\n",
    "print(\"columns:\", list(data.columns))"
   ]
  },
  {
   "cell_type": "markdown",
   "id": "689d3bad",
   "metadata": {},
   "source": [
    "### 1. *Changing DataType of Approval Date Column*\n"
   ]
  },
  {
   "cell_type": "code",
   "execution_count": 42,
   "id": "f6896fa1",
   "metadata": {},
   "outputs": [],
   "source": [
    "data['Approval Date'] = pd.to_datetime(data['Approval Date'], errors='coerce') "
   ]
  },
  {
   "cell_type": "code",
   "execution_count": 43,
   "id": "9cc8ddb0",
   "metadata": {},
   "outputs": [
    {
     "name": "stdout",
     "output_type": "stream",
     "text": [
      "<class 'pandas.core.frame.DataFrame'>\n",
      "RangeIndex: 336 entries, 0 to 335\n",
      "Data columns (total 5 columns):\n",
      " #   Column              Non-Null Count  Dtype         \n",
      "---  ------              --------------  -----         \n",
      " 0   Name                336 non-null    object        \n",
      " 1   Constellation       335 non-null    object        \n",
      " 2   Bayern Designation  335 non-null    object        \n",
      " 3   Designation         336 non-null    object        \n",
      " 4   Approval Date       336 non-null    datetime64[ns]\n",
      "dtypes: datetime64[ns](1), object(4)\n",
      "memory usage: 13.3+ KB\n"
     ]
    }
   ],
   "source": [
    "data.info()"
   ]
  },
  {
   "cell_type": "markdown",
   "id": "05f79cde",
   "metadata": {},
   "source": [
    "### 1. *Printing Null Values*\n"
   ]
  },
  {
   "cell_type": "code",
   "execution_count": 44,
   "id": "44f5d30a",
   "metadata": {},
   "outputs": [
    {
     "name": "stdout",
     "output_type": "stream",
     "text": [
      "Name                  0\n",
      "Constellation         1\n",
      "Bayern Designation    1\n",
      "Designation           0\n",
      "Approval Date         0\n",
      "dtype: int64\n"
     ]
    }
   ],
   "source": [
    "print(data.isnull().sum())"
   ]
  },
  {
   "cell_type": "code",
   "execution_count": 45,
   "id": "dd84a67b",
   "metadata": {},
   "outputs": [
    {
     "data": {
      "text/html": [
       "<div>\n",
       "<style scoped>\n",
       "    .dataframe tbody tr th:only-of-type {\n",
       "        vertical-align: middle;\n",
       "    }\n",
       "\n",
       "    .dataframe tbody tr th {\n",
       "        vertical-align: top;\n",
       "    }\n",
       "\n",
       "    .dataframe thead th {\n",
       "        text-align: right;\n",
       "    }\n",
       "</style>\n",
       "<table border=\"1\" class=\"dataframe\">\n",
       "  <thead>\n",
       "    <tr style=\"text-align: right;\">\n",
       "      <th></th>\n",
       "      <th>Name</th>\n",
       "      <th>Constellation</th>\n",
       "      <th>Bayern Designation</th>\n",
       "      <th>Designation</th>\n",
       "      <th>Approval Date</th>\n",
       "    </tr>\n",
       "  </thead>\n",
       "  <tbody>\n",
       "    <tr>\n",
       "      <th>count</th>\n",
       "      <td>336</td>\n",
       "      <td>335</td>\n",
       "      <td>335</td>\n",
       "      <td>336</td>\n",
       "      <td>336</td>\n",
       "    </tr>\n",
       "    <tr>\n",
       "      <th>unique</th>\n",
       "      <td>336</td>\n",
       "      <td>63</td>\n",
       "      <td>335</td>\n",
       "      <td>336</td>\n",
       "      <td>NaN</td>\n",
       "    </tr>\n",
       "    <tr>\n",
       "      <th>top</th>\n",
       "      <td>Zubeneschamali</td>\n",
       "      <td>Ursa Major</td>\n",
       "      <td>β Librae</td>\n",
       "      <td>HR 5685</td>\n",
       "      <td>NaN</td>\n",
       "    </tr>\n",
       "    <tr>\n",
       "      <th>freq</th>\n",
       "      <td>1</td>\n",
       "      <td>18</td>\n",
       "      <td>1</td>\n",
       "      <td>1</td>\n",
       "      <td>NaN</td>\n",
       "    </tr>\n",
       "    <tr>\n",
       "      <th>mean</th>\n",
       "      <td>NaN</td>\n",
       "      <td>NaN</td>\n",
       "      <td>NaN</td>\n",
       "      <td>NaN</td>\n",
       "      <td>2016-12-05 12:38:34.285714176</td>\n",
       "    </tr>\n",
       "    <tr>\n",
       "      <th>min</th>\n",
       "      <td>NaN</td>\n",
       "      <td>NaN</td>\n",
       "      <td>NaN</td>\n",
       "      <td>NaN</td>\n",
       "      <td>2015-12-15 00:00:00</td>\n",
       "    </tr>\n",
       "    <tr>\n",
       "      <th>25%</th>\n",
       "      <td>NaN</td>\n",
       "      <td>NaN</td>\n",
       "      <td>NaN</td>\n",
       "      <td>NaN</td>\n",
       "      <td>2016-07-20 00:00:00</td>\n",
       "    </tr>\n",
       "    <tr>\n",
       "      <th>50%</th>\n",
       "      <td>NaN</td>\n",
       "      <td>NaN</td>\n",
       "      <td>NaN</td>\n",
       "      <td>NaN</td>\n",
       "      <td>2016-08-21 00:00:00</td>\n",
       "    </tr>\n",
       "    <tr>\n",
       "      <th>75%</th>\n",
       "      <td>NaN</td>\n",
       "      <td>NaN</td>\n",
       "      <td>NaN</td>\n",
       "      <td>NaN</td>\n",
       "      <td>2017-06-30 00:00:00</td>\n",
       "    </tr>\n",
       "    <tr>\n",
       "      <th>max</th>\n",
       "      <td>NaN</td>\n",
       "      <td>NaN</td>\n",
       "      <td>NaN</td>\n",
       "      <td>NaN</td>\n",
       "      <td>2018-08-10 00:00:00</td>\n",
       "    </tr>\n",
       "  </tbody>\n",
       "</table>\n",
       "</div>"
      ],
      "text/plain": [
       "                  Name Constellation Bayern Designation Designation  \\\n",
       "count              336           335                335         336   \n",
       "unique             336            63                335         336   \n",
       "top     Zubeneschamali    Ursa Major           β Librae     HR 5685   \n",
       "freq                 1            18                  1           1   \n",
       "mean               NaN           NaN                NaN         NaN   \n",
       "min                NaN           NaN                NaN         NaN   \n",
       "25%                NaN           NaN                NaN         NaN   \n",
       "50%                NaN           NaN                NaN         NaN   \n",
       "75%                NaN           NaN                NaN         NaN   \n",
       "max                NaN           NaN                NaN         NaN   \n",
       "\n",
       "                        Approval Date  \n",
       "count                             336  \n",
       "unique                            NaN  \n",
       "top                               NaN  \n",
       "freq                              NaN  \n",
       "mean    2016-12-05 12:38:34.285714176  \n",
       "min               2015-12-15 00:00:00  \n",
       "25%               2016-07-20 00:00:00  \n",
       "50%               2016-08-21 00:00:00  \n",
       "75%               2017-06-30 00:00:00  \n",
       "max               2018-08-10 00:00:00  "
      ]
     },
     "execution_count": 45,
     "metadata": {},
     "output_type": "execute_result"
    }
   ],
   "source": [
    "data.describe(include = \"all\")"
   ]
  },
  {
   "cell_type": "markdown",
   "id": "cf296bed",
   "metadata": {},
   "source": [
    "## Questions:"
   ]
  },
  {
   "cell_type": "markdown",
   "id": "e565de86",
   "metadata": {},
   "source": [
    "### 1. Zodiac Star Distribution"
   ]
  },
  {
   "cell_type": "code",
   "execution_count": 86,
   "id": "309d1400",
   "metadata": {},
   "outputs": [],
   "source": [
    "# List of zodiac constellations\n",
    "zodiac_constellations = [\n",
    "    \"Aries\", \"Taurus\", \"Gemini\", \"Cancer\", \"Leo\", \"Virgo\",\n",
    "    \"Libra\", \"Scorpius\", \"Sagittarius\", \"Capricornus\", \"Aquarius\", \"Pisces\"\n",
    "]\n",
    "\n",
    "# Filtering Zodiac Constellations\n",
    "zodiac_data = data[data[\"Constellation\"].isin(zodiac_constellations)]\n",
    "\n",
    "# Star Count per Zodiac Constellation\n",
    "zodiac_star_counts = zodiac_data.groupby(\"Constellation\")[\"Name\"].count().reset_index(name=\"Star Count\")"
   ]
  },
  {
   "cell_type": "code",
   "execution_count": 87,
   "id": "fb7863e2",
   "metadata": {},
   "outputs": [
    {
     "data": {
      "image/png": "[encoded data removed]",
      "text/plain": [
       "<Figure size 600x400 with 1 Axes>"
      ]
     },
     "metadata": {},
     "output_type": "display_data"
    }
   ],
   "source": [
    "# Plotting Pie Chart\n",
    "plt.figure(figsize=(6, 4))\n",
    "plt.pie(\n",
    "    zodiac_star_counts[\"Star Count\"],\n",
    "    labels=zodiac_star_counts[\"Constellation\"],\n",
    "    autopct='%1.1f%%',\n",
    "    startangle=140,\n",
    "    colors=plt.cm.Paired.colors\n",
    ")\n",
    "\n",
    "plt.title(\"Zodiac Star Distribution (Pie Chart)\")\n",
    "plt.axis('equal')\n",
    "plt.tight_layout()\n",
    "plt.show()\n"
   ]
  },
  {
   "cell_type": "code",
   "execution_count": null,
   "id": "9bf4c05c",
   "metadata": {},
   "outputs": [],
   "source": []
  }
 ],
 "metadata": {
  "kernelspec": {
   "display_name": ".venv",
   "language": "python",
   "name": "python3"
  },
  "language_info": {
   "codemirror_mode": {
    "name": "ipython",
    "version": 3
   },
   "file_extension": ".py",
   "mimetype": "text/x-python",
   "name": "python",
   "nbconvert_exporter": "python",
   "pygments_lexer": "ipython3",
   "version": "3.12.3"
  }
 },
 "nbformat": 4,
 "nbformat_minor": 5
}
