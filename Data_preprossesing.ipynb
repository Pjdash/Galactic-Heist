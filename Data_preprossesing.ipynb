{
 "cells": [
  {
   "cell_type": "code",
   "execution_count": 5,
   "id": "06102b8e",
   "metadata": {},
   "outputs": [
    {
     "name": "stdout",
     "output_type": "stream",
     "text": [
      "Requirement already satisfied: pandas in d:\\miniconda\\lib\\site-packages (2.0.3)\n",
      "Requirement already satisfied: numpy>=1.20.3; python_version < \"3.10\" in d:\\miniconda\\lib\\site-packages (from pandas) (1.24.4)\n",
      "Requirement already satisfied: pytz>=2020.1 in d:\\miniconda\\lib\\site-packages (from pandas) (2025.2)\n",
      "Requirement already satisfied: tzdata>=2022.1 in d:\\miniconda\\lib\\site-packages (from pandas) (2025.2)\n",
      "Requirement already satisfied: python-dateutil>=2.8.2 in d:\\miniconda\\lib\\site-packages (from pandas) (2.8.2)\n",
      "Requirement already satisfied: six>=1.5 in d:\\miniconda\\lib\\site-packages (from python-dateutil>=2.8.2->pandas) (1.14.0)\n"
     ]
    },
    {
     "name": "stdout",
     "output_type": "stream",
     "text": [
      "Collecting pandas\n",
      "  Using cached pandas-2.0.3-cp38-cp38-win_amd64.whl (10.8 MB)\n",
      "Requirement already satisfied: numpy>=1.20.3; python_version < \"3.10\" in d:\\miniconda\\lib\\site-packages (from pandas) (1.24.4)\n",
      "Requirement already satisfied: python-dateutil>=2.8.2 in d:\\miniconda\\lib\\site-packages (from pandas) (2.8.2)\n",
      "Requirement already satisfied: pytz>=2020.1 in d:\\miniconda\\lib\\site-packages (from pandas) (2025.2)\n",
      "Requirement already satisfied: tzdata>=2022.1 in d:\\miniconda\\lib\\site-packages (from pandas) (2025.2)\n",
      "Requirement already satisfied: six>=1.5 in d:\\miniconda\\lib\\site-packages (from python-dateutil>=2.8.2->pandas) (1.14.0)\n",
      "Installing collected packages: pandas\n",
      "Successfully installed pandas-2.0.3\n"
     ]
    }
   ],
   "source": [
    "! pip install pandas"
   ]
  },
  {
   "cell_type": "code",
   "execution_count": 8,
   "id": "f02d1ac8",
   "metadata": {},
   "outputs": [],
   "source": [
    "import pandas as pd\n",
    "import numpy as np\n",
    "\n",
    "df = pd.read_csv('Stars_Names.csv')\n",
    "\n"
   ]
  },
  {
   "cell_type": "markdown",
   "id": "d124f639",
   "metadata": {},
   "source": [
    "Droping the non HR  values "
   ]
  },
  {
   "cell_type": "code",
   "execution_count": 10,
   "id": "9b3d3fc9",
   "metadata": {},
   "outputs": [
    {
     "name": "stdout",
     "output_type": "stream",
     "text": [
      "               Name Constellation Bayern Designation Designation Approval Date\n",
      "0            Acamar      Eridanus       θ1 Eridani A      HR 897    2016-07-20\n",
      "1          Achernar      Eridanus        α Eridani A      HR 472    2016-06-30\n",
      "2            Achird    Cassiopeia    η Cassiopeiae A      HR 219    2017-09-05\n",
      "3             Acrab      Scorpius      β1 Scorpii Aa     HR 5984    2016-08-21\n",
      "4             Acrux          Crux        α Crucis Aa     HR 4730    2016-07-20\n",
      "..              ...           ...                ...         ...           ...\n",
      "327           Zibal      Eridanus       ζ Eridani Aa      HR 984    2016-09-12\n",
      "328           Zosma           Leo           δ Leonis     HR 4357    2016-07-20\n",
      "329   Zubenelgenubi         Libra       α2 Librae Aa     HR 5531    2016-08-21\n",
      "330  Zubenelhakrabi         Libra         γ Librae A     HR 5787    2017-09-05\n",
      "331  Zubeneschamali         Libra           β Librae     HR 5685    2016-08-21\n",
      "\n",
      "[332 rows x 5 columns]\n"
     ]
    }
   ],
   "source": [
    "df_filtered = df[df['Designation'].str.startswith('HR', na=False)]\n",
    "df_filtered = df_filtered.reset_index(drop=True)\n",
    "print(df_filtered)"
   ]
  },
  {
   "cell_type": "markdown",
   "id": "1e2a19e8",
   "metadata": {},
   "source": []
  }
 ],
 "metadata": {
  "kernelspec": {
   "display_name": "base",
   "language": "python",
   "name": "python3"
  },
  "language_info": {
   "codemirror_mode": {
    "name": "ipython",
    "version": 3
   },
   "file_extension": ".py",
   "mimetype": "text/x-python",
   "name": "python",
   "nbconvert_exporter": "python",
   "pygments_lexer": "ipython3",
   "version": "3.8.3"
  }
 },
 "nbformat": 4,
 "nbformat_minor": 5
}
